{
 "cells": [
  {
   "cell_type": "code",
   "execution_count": 1,
   "metadata": {},
   "outputs": [],
   "source": [
    "import pandas as pd\n",
    "import numpy as np\n",
    "from sklearn import mixture\n",
    "from sklearn.mixture import GaussianMixture"
   ]
  },
  {
   "cell_type": "code",
   "execution_count": 2,
   "metadata": {},
   "outputs": [],
   "source": [
    "df=pd.read_csv('20170317KW KW Con_Gated.csv',sep=',')"
   ]
  },
  {
   "cell_type": "code",
   "execution_count": 3,
   "metadata": {},
   "outputs": [
    {
     "name": "stdout",
     "output_type": "stream",
     "text": [
      "Done\n"
     ]
    }
   ],
   "source": [
    "#1D2P GMM to divide the file into a CD3+ and CD3- population\n",
    "\n",
    "classifier=[]\n",
    "datasetCD3=[]\n",
    "datasetCD19=[]\n",
    "datasetOneCD3=[]\n",
    "datasetOneCD19=[]\n",
    "datasetTwoCD3=[]\n",
    "datasetTwoCD19=[]\n",
    "CD3true=[]\n",
    "\n",
    "n=df.shape[0]\n",
    "\n",
    "for i in range (0,n): #randomly selects the classifier (25% of file)\n",
    "    a=np.random.randint(low=1, high=5)\n",
    "    b=np.log(df.Y89Di[i]+1)\n",
    "    bb=np.log(df.Nd142Di[i]+1)\n",
    "    if a==4:\n",
    "        classifier.append(b)\n",
    "    datasetCD3.append(b)\n",
    "    datasetCD19.append(bb)\n",
    "\n",
    "\n",
    "Classifier=pd.DataFrame({'A':classifier}) # convert Classifier into dataframe to be read by code\n",
    "model=GaussianMixture(n_components=2,tol=0.001,n_init=5).fit(Classifier) # train the classifier, define TWO populations\n",
    "\n",
    "dataset=pd.DataFrame({'CD3':datasetCD3, 'CD19':datasetCD19}) # convert dataset into a dataframe\n",
    "\n",
    "m=dataset.shape[0]\n",
    "\n",
    "for j in range (0,m):  # use GMM to \"predict\" to which of the two population the data belong \n",
    "    c=dataset.CD3[j]\n",
    "    cc=dataset.CD19[j]\n",
    "    if model.predict(c)==[0]:\n",
    "        datasetOneCD3.append(c) # split the data according to the predict() into dataset ONE, and\n",
    "        datasetOneCD19.append(cc)\n",
    "    else:\n",
    "        datasetTwoCD3.append(c) # split the data according to the predict() into dataset TWO\n",
    "        datasetTwoCD19.append(cc)\n",
    "        \n",
    "DatasetOne=pd.DataFrame({'CD3':datasetOneCD3, 'CD19':datasetOneCD19}) #convert the 2 datasets into dataframes\n",
    "DatasetTwo=pd.DataFrame({'CD3':datasetTwoCD3, 'CD19':datasetTwoCD19})\n",
    "        \n",
    "if model.means_[0]>model.means_[1]: #set the dataframe corresponding to the higher mean as the TRUE CD3 dataset\n",
    "    DatasetTrue=DatasetOne\n",
    "    DatasetNotTrue=DatasetTwo\n",
    "else:\n",
    "    DatasetTrue=DatasetTwo\n",
    "    DatasetNotTrue=DatasetOne\n",
    "    \n",
    "print 'Done'\n"
   ]
  },
  {
   "cell_type": "code",
   "execution_count": 6,
   "metadata": {},
   "outputs": [
    {
     "name": "stdout",
     "output_type": "stream",
     "text": [
      "CD3posCD19neg: 212353\n",
      "CD3posCD19pos: 14467\n"
     ]
    }
   ],
   "source": [
    "#CD19 population in the CD3+ population\n",
    "o=DatasetTrue.shape[0]\n",
    "\n",
    "CD3posCD19pos=0\n",
    "CD3posCD19neg=0\n",
    "\n",
    "for k in range (0,o): # split the dataset into 2 populations, based on CD19 values, (4<CD19<6) or not\n",
    "    d=DatasetTrue.CD3[k]\n",
    "    e=DatasetTrue.CD19[k]\n",
    "    if e>=4 and e<=6:\n",
    "        CD3posCD19pos+=1\n",
    "    else: CD3posCD19neg+=1\n",
    "        \n",
    "        \n",
    "print 'CD3posCD19neg:'+' '+str(CD3posCD19neg)\n",
    "print 'CD3posCD19pos:'+' '+str(CD3posCD19pos)\n"
   ]
  },
  {
   "cell_type": "code",
   "execution_count": 7,
   "metadata": {},
   "outputs": [
    {
     "name": "stdout",
     "output_type": "stream",
     "text": [
      "CD3negCD19neg: 68988\n",
      "CD3negCD19pos: 28450\n"
     ]
    }
   ],
   "source": [
    "#CD19 population in the  CD3- population\n",
    "o=DatasetNotTrue.shape[0]\n",
    "\n",
    "CD3negCD19pos=0\n",
    "CD3negCD19neg=0\n",
    "\n",
    "for k in range (0,o):  # split the dataset into 2 populations, based on CD19 values, (5<CD19<6) or not\n",
    "    d=DatasetNotTrue.CD3[k]\n",
    "    e=DatasetNotTrue.CD19[k]\n",
    "    if e>=4 and e<=6:\n",
    "        CD3negCD19pos+=1\n",
    "    else: CD3negCD19neg+=1\n",
    "        \n",
    "        \n",
    "print 'CD3negCD19neg:'+' '+str(CD3negCD19neg)\n",
    "print 'CD3negCD19pos:'+' '+str(CD3negCD19pos)\n"
   ]
  }
 ],
 "metadata": {
  "kernelspec": {
   "display_name": "Python 2",
   "language": "python",
   "name": "python2"
  },
  "language_info": {
   "codemirror_mode": {
    "name": "ipython",
    "version": 2
   },
   "file_extension": ".py",
   "mimetype": "text/x-python",
   "name": "python",
   "nbconvert_exporter": "python",
   "pygments_lexer": "ipython2",
   "version": "2.7.15"
  }
 },
 "nbformat": 4,
 "nbformat_minor": 2
}
