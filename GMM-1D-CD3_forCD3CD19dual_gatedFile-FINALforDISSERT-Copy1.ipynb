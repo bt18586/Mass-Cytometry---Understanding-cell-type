{
 "cells": [
  {
   "cell_type": "code",
   "execution_count": 1,
   "metadata": {},
   "outputs": [],
   "source": [
    "import pandas as pd\n",
    "import numpy as np\n",
    "from sklearn import mixture\n",
    "from sklearn.mixture import GaussianMixture"
   ]
  },
  {
   "cell_type": "code",
   "execution_count": 2,
   "metadata": {},
   "outputs": [],
   "source": [
    "#df=pd.read_csv('SelectedVariables_Event_lenghtLess4.5_DNA1More7.5_DNA2More8_KW_Con.csv',sep=',', nrows=500)\n",
    "#df=pd.read_csv('SelectedVariables_Event_lenghtLess4.5_DNA1More7.5_DNA2More8_KW_Con.csv',sep=',')\n",
    "#df=pd.read_csv('20170317KW KW Con.csv',sep=',', nrows=500)\n",
    "#df=pd.read_csv('20170317KW KW Con.csv',sep=',')\n",
    "df=pd.read_csv('20170317KW KW Con_Gated.csv',sep=',')\n"
   ]
  },
  {
   "cell_type": "code",
   "execution_count": 3,
   "metadata": {},
   "outputs": [
    {
     "data": {
      "text/plain": [
       "324258"
      ]
     },
     "execution_count": 3,
     "metadata": {},
     "output_type": "execute_result"
    }
   ],
   "source": [
    "df.shape[0]"
   ]
  },
  {
   "cell_type": "code",
   "execution_count": 4,
   "metadata": {},
   "outputs": [
    {
     "name": "stdout",
     "output_type": "stream",
     "text": [
      "Done\n"
     ]
    }
   ],
   "source": [
    "classifier=[]\n",
    "datasetCD3=[]\n",
    "datasetCD19=[]\n",
    "datasetOneCD3=[]\n",
    "datasetOneCD19=[]\n",
    "datasetTwoCD3=[]\n",
    "datasetTwoCD19=[]\n",
    "CD3true=[]\n",
    "\n",
    "n=df.shape[0]\n",
    "\n",
    "for i in range (0,n): #randomly selects the classifier (25% of file)\n",
    "    #if df.Y89Di[i]>0 and df.Nd142Di[i]>0:\n",
    "    a=np.random.randint(low=1, high=5)\n",
    "    b=np.log(df.Y89Di[i]+1)\n",
    "    bb=np.log(df.Nd142Di[i]+1)\n",
    "    if a==4:\n",
    "        classifier.append(b)\n",
    "    datasetCD3.append(b)\n",
    "    datasetCD19.append(bb)\n",
    "\n",
    "\n",
    "Classifier=pd.DataFrame({'A':classifier}) # convert Classifier into dataframe to be read by code\n",
    "model=GaussianMixture(n_components=2,tol=0.001,n_init=5).fit(Classifier) # train the classifier, define TWO populations\n",
    "\n",
    "dataset=pd.DataFrame({'CD3':datasetCD3, 'CD19':datasetCD19}) # convert dataset into a dataframe\n",
    "\n",
    "m=dataset.shape[0]\n",
    "\n",
    "for j in range (0,m):  # use GMM to \"predict\" to which of the two population the data belong \n",
    "    c=dataset.CD3[j]\n",
    "    cc=dataset.CD19[j]\n",
    "    if model.predict(c)==[0]:\n",
    "        datasetOneCD3.append(c) # split the data according to the predict() into dataset ONE, and\n",
    "        datasetOneCD19.append(cc)\n",
    "    else:\n",
    "        datasetTwoCD3.append(c) # split the data according to the predict() into dataset TWO\n",
    "        datasetTwoCD19.append(cc)\n",
    "        \n",
    "DatasetOne=pd.DataFrame({'CD3':datasetOneCD3, 'CD19':datasetOneCD19}) #convert the 2 datasets into dataframes\n",
    "DatasetTwo=pd.DataFrame({'CD3':datasetTwoCD3, 'CD19':datasetTwoCD19})\n",
    "        \n",
    "if model.means_[0]>model.means_[1]: #set the dataframe corresponding to the higher mean as the TRUE CD3 dataset\n",
    "    DatasetTrue=DatasetOne\n",
    "    DatasetNotTrue=DatasetTwo\n",
    "else:\n",
    "    DatasetTrue=DatasetTwo\n",
    "    DatasetNotTrue=DatasetOne\n",
    "    \n",
    "print 'Done'\n"
   ]
  },
  {
   "cell_type": "code",
   "execution_count": 5,
   "metadata": {},
   "outputs": [
    {
     "data": {
      "text/plain": [
       "324258"
      ]
     },
     "execution_count": 5,
     "metadata": {},
     "output_type": "execute_result"
    }
   ],
   "source": [
    "dataset.shape[0]"
   ]
  },
  {
   "cell_type": "code",
   "execution_count": 6,
   "metadata": {},
   "outputs": [
    {
     "name": "stdout",
     "output_type": "stream",
     "text": [
      "CD3posCD19neg: 211870\n",
      "CD3posCD19pos: 14407\n",
      "Percentage CD3dualstaining: 6.37%\n"
     ]
    }
   ],
   "source": [
    "#CD3% dual staining in the \"true\" CD3 population\n",
    "o=DatasetTrue.shape[0]\n",
    "\n",
    "CD3posCD19pos=0\n",
    "CD3posCD19neg=0\n",
    "\n",
    "for k in range (0,o): # split the dataset into 2 populations, based on CD19 values, (4<CD19<6) or not\n",
    "    d=DatasetTrue.CD3[k]\n",
    "    e=DatasetTrue.CD19[k]\n",
    "    if e>=4 and e<=6:\n",
    "        CD3posCD19pos+=1\n",
    "    else: CD3posCD19neg+=1\n",
    "        \n",
    "q=float(CD3posCD19neg)\n",
    "r=float(CD3posCD19pos)\n",
    "per=round(r/(r+q)*100,2)\n",
    "\n",
    "        \n",
    "print 'CD3posCD19neg:'+' '+str(CD3posCD19neg)\n",
    "print 'CD3posCD19pos:'+' '+str(CD3posCD19pos)\n",
    "print 'Percentage CD3dualstaining:'+' '+str(per)+'%'"
   ]
  },
  {
   "cell_type": "code",
   "execution_count": 7,
   "metadata": {},
   "outputs": [
    {
     "name": "stdout",
     "output_type": "stream",
     "text": [
      "CD3negCD19neg: 69471\n",
      "CD3negCD19pos: 28510\n",
      "Percentage CD3dualstaining: 29.1%\n"
     ]
    }
   ],
   "source": [
    "#CD3% dual staining in the \"NonTrue\" CD3 population\n",
    "o=DatasetNotTrue.shape[0]\n",
    "\n",
    "CD3negCD19pos=0\n",
    "CD3negCD19neg=0\n",
    "\n",
    "for k in range (0,o):  # split the dataset into 2 populations, based on CD19 values, (5<CD19<6) or not\n",
    "    d=DatasetNotTrue.CD3[k]\n",
    "    e=DatasetNotTrue.CD19[k]\n",
    "    if e>=4 and e<=6:\n",
    "        CD3negCD19pos+=1\n",
    "    else: CD3negCD19neg+=1\n",
    "        \n",
    "q=float(CD3negCD19neg)\n",
    "r=float(CD3negCD19pos)\n",
    "per=round(r/(r+q)*100,2)\n",
    "        \n",
    "print 'CD3negCD19neg:'+' '+str(CD3negCD19neg)\n",
    "print 'CD3negCD19pos:'+' '+str(CD3negCD19pos)\n",
    "print 'Percentage CD3dualstaining:'+' '+str(per)+'%'"
   ]
  },
  {
   "cell_type": "code",
   "execution_count": 8,
   "metadata": {},
   "outputs": [
    {
     "data": {
      "text/plain": [
       "324258"
      ]
     },
     "execution_count": 8,
     "metadata": {},
     "output_type": "execute_result"
    }
   ],
   "source": [
    "211870 + 14407 + 69471 + 28510"
   ]
  },
  {
   "cell_type": "code",
   "execution_count": null,
   "metadata": {},
   "outputs": [],
   "source": []
  }
 ],
 "metadata": {
  "kernelspec": {
   "display_name": "Python 2",
   "language": "python",
   "name": "python2"
  },
  "language_info": {
   "codemirror_mode": {
    "name": "ipython",
    "version": 2
   },
   "file_extension": ".py",
   "mimetype": "text/x-python",
   "name": "python",
   "nbconvert_exporter": "python",
   "pygments_lexer": "ipython2",
   "version": "2.7.15"
  }
 },
 "nbformat": 4,
 "nbformat_minor": 2
}
