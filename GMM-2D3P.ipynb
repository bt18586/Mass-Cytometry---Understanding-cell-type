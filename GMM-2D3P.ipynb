{
 "cells": [
  {
   "cell_type": "code",
   "execution_count": 5,
   "metadata": {},
   "outputs": [],
   "source": [
    "#Code to predict CD3 & CD19 populations with 3 components defined & plot on scatterplot\n",
    "#Code needs the datafile to be already gated for event_length & DNA\n",
    "\n",
    "import pandas as pd\n",
    "import numpy as np\n",
    "from sklearn import mixture\n",
    "from sklearn.mixture import GaussianMixture\n",
    "import seaborn as sns\n",
    "\n",
    "df=pd.read_csv('20170317KW KW Con_Gated.csv',sep=',')\n",
    "\n",
    "classifierCD3=[]\n",
    "classifierCD19=[]\n",
    "datasetCD3=[]\n",
    "datasetCD19=[]\n",
    "\n",
    "n=df.shape[0]\n",
    "\n",
    "for i in range (0,n): #split dataframe randomly into 2 populations, the classifier (25%) & the dataset (75%)\n",
    "    a=np.random.randint(low=1, high=5)\n",
    "    b=np.log(df.Y89Di[i]+1)\n",
    "    bb=np.log(df.Nd142Di[i]+1)\n",
    "    if a==4:\n",
    "        classifierCD3.append(b)\n",
    "        classifierCD19.append(bb)\n",
    "    datasetCD3.append(b)\n",
    "    datasetCD19.append(bb)\n",
    "\n",
    "Classifier=pd.DataFrame({'CD3':classifierCD3,'CD19':classifierCD19}) # convert Classifier into dataframe to be read by code\n",
    "model=GaussianMixture(n_components=3,tol=0.001,n_init=5).fit(Classifier) # train the classifier, define TWO populations\n",
    "\n",
    "dataset=pd.DataFrame({'CD3':datasetCD3, 'CD19':datasetCD19}) # convert dataset (75% of data) into a dataframe\n",
    "\n",
    "m=dataset.shape[0]\n",
    "marker=[]\n",
    "for j in range (0,m):  # use GMM to \"predict\" to which of the two population the data belong \n",
    "    a=dataset.iloc[j][0]\n",
    "    b=dataset.iloc[j][1]\n",
    "    c=dataset.CD3[j]\n",
    "    cc=dataset.CD19[j]\n",
    "    if model.predict([[a,b]])==[0]: #and model.predict(cc):\n",
    "        marker.append(1)\n",
    "    elif model.predict([[a,b]])==[1]:\n",
    "        marker.append(2)\n",
    "    elif model.predict([[a,b]])==[2]:\n",
    "        marker.append(3)\n",
    "\n",
    "dataset['prediction'] = marker \n",
    "#print 'Done!'\n"
   ]
  },
  {
   "cell_type": "code",
   "execution_count": null,
   "metadata": {},
   "outputs": [],
   "source": [
    "sns.scatterplot(x=\"CD3\",y=\"CD19\",hue=\"prediction\",data=dataset[:10000],legend=False)"
   ]
  }
 ],
 "metadata": {
  "kernelspec": {
   "display_name": "Python 2",
   "language": "python",
   "name": "python2"
  },
  "language_info": {
   "codemirror_mode": {
    "name": "ipython",
    "version": 2
   },
   "file_extension": ".py",
   "mimetype": "text/x-python",
   "name": "python",
   "nbconvert_exporter": "python",
   "pygments_lexer": "ipython2",
   "version": "2.7.15"
  }
 },
 "nbformat": 4,
 "nbformat_minor": 2
}
