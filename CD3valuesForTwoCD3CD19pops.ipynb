{
 "cells": [
  {
   "cell_type": "code",
   "execution_count": 26,
   "metadata": {},
   "outputs": [],
   "source": [
    "#Python code to divide CD3 into 2 populations based on dual staining with CD19 (defined as 4 < CD19+ < 6)\n",
    "import pandas\n",
    "import numpy\n",
    "\n",
    "df=pandas.read_csv('20170317KW KW Con_Gated.csv',delimiter=',')\n",
    "\n",
    "def checkInRange (antigen,lowerlimit,upperlimit):\n",
    "    '''Accepts antigen value, lower ref range limit & upper ref range limit as arguments\n",
    "    & returns true if in the referange range & false if not'''\n",
    "    \n",
    "    a=antigen\n",
    "    lower=lowerlimit\n",
    "    upper=upperlimit\n",
    "    b=numpy.log(a+1)\n",
    "\n",
    "    if a>0 and b>=lower and b<=upper:\n",
    "        return True\n",
    "    else:\n",
    "        return False\n",
    "    \n",
    "pop1x=[]\n",
    "pop1y=[]\n",
    "pop2x=[]\n",
    "pop2y=[]\n",
    "\n",
    "n=df.shape[0]\n",
    "\n",
    "ant1low=0\n",
    "ant1up=100\n",
    "ant2low=4.0 # 'manual gaing'\n",
    "ant2up=6.0 # 'manual gaing'\n",
    "\n",
    "for i in range (0,n):\n",
    "    ant1=checkInRange(df.Y89Di[i],ant1low,ant1up) #CD3 ####=======================>>> PROVIDE/DEFINE THE FIRTS ANTIGEN\n",
    "    ant2=checkInRange(df.Nd142Di[i],ant2low,ant2up) #CD19 ###=======================>>> PROVIDE/DEFINE THE SECOND ANTIGEN\n",
    "\n",
    "    if ant1==True and ant2==True:\n",
    "        pop1x.append(df.Y89Di[i]) #CD3 reading\n",
    "    elif ant1==True and ant2==False:\n",
    "        pop2x.append(df.Y89Di[i]) #CD3 reading\n",
    "\n",
    "df2=pandas.DataFrame({'pop1x':pop1x})\n",
    "df3=pandas.DataFrame({'pop2x':pop2x})\n"
   ]
  }
 ],
 "metadata": {
  "kernelspec": {
   "display_name": "Python 2",
   "language": "python",
   "name": "python2"
  },
  "language_info": {
   "codemirror_mode": {
    "name": "ipython",
    "version": 2
   },
   "file_extension": ".py",
   "mimetype": "text/x-python",
   "name": "python",
   "nbconvert_exporter": "python",
   "pygments_lexer": "ipython2",
   "version": "2.7.15"
  }
 },
 "nbformat": 4,
 "nbformat_minor": 2
}
