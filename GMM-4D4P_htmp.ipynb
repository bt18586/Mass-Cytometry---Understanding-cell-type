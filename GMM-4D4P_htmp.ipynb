{
 "cells": [
  {
   "cell_type": "code",
   "execution_count": 1,
   "metadata": {},
   "outputs": [],
   "source": [
    "import pandas\n",
    "import numpy\n",
    "from sklearn import mixture\n",
    "from sklearn.mixture import GaussianMixture\n",
    "import seaborn as sns\n",
    "import matplotlib.pyplot as plt\n",
    "from scipy import stats"
   ]
  },
  {
   "cell_type": "code",
   "execution_count": 2,
   "metadata": {},
   "outputs": [],
   "source": [
    "fllst=['20170317KW KW Con.csv']"
   ]
  },
  {
   "cell_type": "code",
   "execution_count": 7,
   "metadata": {},
   "outputs": [],
   "source": [
    "# gmm 4D4P GMM - representing data as heatmap\n",
    "\n",
    "\n",
    "def gateDNA_Event_length(fle,cms):\n",
    "    df=pandas.read_csv(fle,delimiter=',')\n",
    "    filtereddf = df[(numpy.log(df[\"Event_length\"]+1)<4.5) & ((numpy.log(df[\"Ir191Di\"]+1)>7.5) | (numpy.log(df[\"Ir193Di\"]+1)>8.0))]\n",
    "    data = {}\n",
    "    for k in cms.keys():\n",
    "        data[cms[k]] = filtereddf[k]\n",
    "    dtafrm=pandas.DataFrame(data)\n",
    "    return dtafrm\n",
    "\n",
    "def predictPopulations(dt,ngroups):\n",
    "    Classifier = dt.sample(frac=0.25)    \n",
    "    model=GaussianMixture(n_components=ngroups,tol=0.001,n_init=5).fit(numpy.log(Classifier+1))\n",
    "    predictions = model.predict(numpy.log(dt+1))\n",
    "    counts = []\n",
    "    for p in range(ngroups):\n",
    "        counts.append(sum(predictions==p))\n",
    "    means = pandas.DataFrame(model.means_)\n",
    "    means.columns = Classifier.columns # assign column names\n",
    "    return (means,counts)\n",
    "\n",
    "typmrks = {\n",
    "    \"Y89Di\":\"CD3\",\n",
    "    \"Bi209Di\":\"CD4\",\n",
    "    \"Nd142Di\":\"CD19\",\n",
    "   \"Er168Di\":\"CD8\",\n",
    "}\n",
    "\n",
    "dt = gateDNA_Event_length(\"20170317KW KW Con.csv\",typmrks)\n",
    "ngroups = 4 # define the number of populations\n",
    "A=predictPopulations(dt,ngroups)\n",
    "B=stats.zscore(A[0]) #get z-score of means per column for heatmap \n",
    "df=A[0] #define a dataframe to get the column names for the heatmap (\"xticklabels=df.columns\")"
   ]
  },
  {
   "cell_type": "code",
   "execution_count": null,
   "metadata": {},
   "outputs": [],
   "source": [
    "aap=sns.heatmap(B,cmap='Blues',linecolor='black', linewidths='0.1', yticklabels=A[1], xticklabels=df.columns) # on z-score"
   ]
  }
 ],
 "metadata": {
  "kernelspec": {
   "display_name": "Python 2",
   "language": "python",
   "name": "python2"
  },
  "language_info": {
   "codemirror_mode": {
    "name": "ipython",
    "version": 2
   },
   "file_extension": ".py",
   "mimetype": "text/x-python",
   "name": "python",
   "nbconvert_exporter": "python",
   "pygments_lexer": "ipython2",
   "version": "2.7.15"
  }
 },
 "nbformat": 4,
 "nbformat_minor": 2
}
