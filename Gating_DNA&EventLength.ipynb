{
 "cells": [
  {
   "cell_type": "code",
   "execution_count": 4,
   "metadata": {},
   "outputs": [],
   "source": [
    "#Gating on Event_length & DNA_1 & DNA_2\n",
    "import pandas\n",
    "import numpy\n",
    "\n",
    "def gateDNA_Event_length(fle):\n",
    "    df=pandas.read_csv(fle,delimiter=',')\n",
    "    filtereddf = df[(numpy.log(df[\"Event_length\"]+1)<4.5) & ((numpy.log(df[\"Ir191Di\"]+1)>7.5) | (numpy.log(df[\"Ir193Di\"]+1)>8.0))]\n",
    "    dtafrm=pandas.DataFrame(filtereddf)\n",
    "    return (dtafrm)\n",
    "\n",
    "df=gateDNA_Event_length('20170317KW KW Con.csv')\n",
    "df.to_csv('20170317KW KW Con_Gated.csv')"
   ]
  },
  {
   "cell_type": "code",
   "execution_count": null,
   "metadata": {},
   "outputs": [],
   "source": []
  }
 ],
 "metadata": {
  "kernelspec": {
   "display_name": "Python 2",
   "language": "python",
   "name": "python2"
  },
  "language_info": {
   "codemirror_mode": {
    "name": "ipython",
    "version": 2
   },
   "file_extension": ".py",
   "mimetype": "text/x-python",
   "name": "python",
   "nbconvert_exporter": "python",
   "pygments_lexer": "ipython2",
   "version": "2.7.15"
  }
 },
 "nbformat": 4,
 "nbformat_minor": 2
}
